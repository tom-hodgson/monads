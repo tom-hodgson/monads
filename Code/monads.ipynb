{
 "cells": [
  {
   "cell_type": "markdown",
   "metadata": {},
   "source": [
    "# Monads\n",
    "\n",
    "When writing an app we define data structures that model our domain entities, e.g."
   ]
  },
  {
   "cell_type": "code",
   "execution_count": 1,
   "metadata": {
    "dotnet_interactive": {
     "language": "csharp"
    },
    "polyglot_notebook": {
     "kernelName": "csharp"
    }
   },
   "outputs": [],
   "source": [
    "    record Wallet(int amount);"
   ]
  },
  {
   "cell_type": "markdown",
   "metadata": {},
   "source": [
    "We then write our domain logic as `pure` functions, they are easier to write and test, and produce the same answer every time they are called, e.g. "
   ]
  },
  {
   "cell_type": "code",
   "execution_count": 2,
   "metadata": {
    "dotnet_interactive": {
     "language": "csharp"
    },
    "polyglot_notebook": {
     "kernelName": "csharp"
    }
   },
   "outputs": [
    {
     "name": "stdout",
     "output_type": "stream",
     "text": [
      "Wallet { amount = 20 }\n"
     ]
    }
   ],
   "source": [
    "Wallet addTen(Wallet w1) => new Wallet(w1.amount + 10);\n",
    "Console.WriteLine(addTen(new Wallet(10)));"
   ]
  },
  {
   "cell_type": "markdown",
   "metadata": {},
   "source": [
    "However in the real world we dont get to deal only with `pure` functions, our code typically includes `effects`.\n",
    "Here are some examples of effects\n",
    "\n",
    "```c#\n",
    "// A user inputs a entity in the UI, its optional so they might not input anything\n",
    "Wallet? getUserInput() => ...\n",
    "\n",
    "// We get all the users wallets\n",
    "IEnumerable<Wallet> getAllUsersWallets() => ...\n",
    "\n",
    "// We get a wallet asynchronously\n",
    "Task<Wallet> getWalletAsync() => ...\n",
    "\n",
    "// We get a wallet from a computation that might error\n",
    "public interface Result<T> { }\n",
    "public record Success<T>(T value) : Result<T> { }\n",
    "public record Error<T>(string message) : Result<T> { }\n",
    "Result<Wallet> getWalletOrError() => ...\n",
    "\n",
    "// there are more, state, environment, ...\n",
    "```\n",
    "\n",
    "Our domain types are still the important bit, our domain logic should be able to run on these types, but the extra effect structure makes it hard.\n",
    "We dont want to litter our code dealing with these effects, its boilerplate, not unique to this application, only our domain logic is unique.\n",
    "\n",
    "We can see that all these effect types `wrap` our domain types\n",
    "\n",
    "```c#\n",
    "Wallet? // sometimes Option<Wallet> or Maybe<Wallet>\n",
    "IEnumerable<Wallet>\n",
    "Task<Wallet>\n",
    "Result<Wallet>\n",
    "```\n",
    "\n",
    "We just need to define how to `unwrap` the types to get at our core domain type. Then we can focus only on our domain logic.\n",
    "There are several interfaces to implement `functor`, `applicative`, `monad`, `arrow` etc depending on what behaviour you want.\n",
    "\n",
    "`Functor` is the simplest interface, it defines `map`, which takes a function `TWrapped -> TWrapped` and applys it to the wrapped value.\n"
   ]
  },
  {
   "cell_type": "code",
   "execution_count": 3,
   "metadata": {
    "dotnet_interactive": {
     "language": "csharp"
    },
    "polyglot_notebook": {
     "kernelName": "csharp"
    }
   },
   "outputs": [
    {
     "name": "stdout",
     "output_type": "stream",
     "text": [
      "(Wallet { amount = 20 }, )\n"
     ]
    }
   ],
   "source": [
    "// if the wallet is null, return null, otherwise apply the function\n",
    "T? mapNullable<T>(T? w, Func<T, T> f) => w == null ? default(T) : f(w);\n",
    "Console.WriteLine((mapNullable(new Wallet(10), addTen), mapNullable<Wallet>(null, addTen)));\n"
   ]
  },
  {
   "cell_type": "code",
   "execution_count": 4,
   "metadata": {
    "dotnet_interactive": {
     "language": "csharp"
    },
    "polyglot_notebook": {
     "kernelName": "csharp"
    }
   },
   "outputs": [
    {
     "name": "stdout",
     "output_type": "stream",
     "text": [
      "Wallet { amount = 20 }, Wallet { amount = 30 }\n"
     ]
    }
   ],
   "source": [
    "\n",
    "// apply the function to every item in the IEnumerable\n",
    "IEnumerable<T> mapEnumerable<T>(IEnumerable<T> ts, Func<T, T> f) => ts.Select(f);\n",
    "Console.WriteLine(string.Join(\", \",mapEnumerable( new List<Wallet> { new Wallet(10), new Wallet(20) }, addTen)));\n"
   ]
  },
  {
   "cell_type": "code",
   "execution_count": 5,
   "metadata": {
    "dotnet_interactive": {
     "language": "csharp"
    },
    "polyglot_notebook": {
     "kernelName": "csharp"
    }
   },
   "outputs": [
    {
     "name": "stdout",
     "output_type": "stream",
     "text": [
      "Error { message = error }\n",
      "Success { value = Wallet { amount = 20 } }\n"
     ]
    }
   ],
   "source": [
    "// apply the function to the value if it is a Success, otherwise return the Error\n",
    "public interface Result<T> { }\n",
    "public record Success<T>(T value) : Result<T> { }\n",
    "public record Error<T>(string message) : Result<T> { }\n",
    "Result<T> mapResult<T>(Result<T> w, Func<T, T> f) => w switch\n",
    "{\n",
    "    Success<T> s => new Success<T>(f(s.value)),\n",
    "    Error<T> e => e\n",
    "};\n",
    "Console.WriteLine( mapResult(new Error<Wallet>(\"error\"), addTen));\n",
    "Console.WriteLine(mapResult(new Success<Wallet>(new Wallet(10)), addTen));"
   ]
  },
  {
   "cell_type": "markdown",
   "metadata": {},
   "source": [
    "Once you've defined `map` you can apply your pure domain logic to the results of `effects` (wrapped values) when ever you want. "
   ]
  },
  {
   "cell_type": "markdown",
   "metadata": {},
   "source": [
    "programs are created by composing functions together to make larger ones. passing the outputs of one function to the inputs of another"
   ]
  },
  {
   "cell_type": "code",
   "execution_count": 6,
   "metadata": {
    "dotnet_interactive": {
     "language": "csharp"
    },
    "polyglot_notebook": {
     "kernelName": "csharp"
    }
   },
   "outputs": [
    {
     "name": "stdout",
     "output_type": "stream",
     "text": [
      "Wallet { amount = 60 }\n"
     ]
    }
   ],
   "source": [
    "Wallet addFifty(Wallet w) => addTen(addTen(addTen(addTen(addTen(w)))));\n",
    "Console.WriteLine(addFifty(new Wallet(10)));"
   ]
  },
  {
   "cell_type": "markdown",
   "metadata": {},
   "source": [
    "composing functions is syntatically equivalent to line by line c# style code e.g."
   ]
  },
  {
   "cell_type": "code",
   "execution_count": 7,
   "metadata": {
    "dotnet_interactive": {
     "language": "csharp"
    },
    "polyglot_notebook": {
     "kernelName": "csharp"
    }
   },
   "outputs": [],
   "source": [
    "Wallet addFifty(Wallet w) {\n",
    "    Wallet w1 = addTen(w);\n",
    "    Wallet w2 = addTen(w1);\n",
    "    Wallet w3 = addTen(w2);\n",
    "    Wallet w4 = addTen(w3);\n",
    "    Wallet w5 = addTen(w4);\n",
    "    return w5;\n",
    "}\n"
   ]
  },
  {
   "cell_type": "markdown",
   "metadata": {},
   "source": [
    "Pure functions are easy to compose. To compose effects, you implement the  `monad` interface. The `bind` function is one way of doing it, given a `wrapped` type and an effect, how do you apply the effect to the `wrapped` value."
   ]
  },
  {
   "cell_type": "code",
   "execution_count": 11,
   "metadata": {
    "dotnet_interactive": {
     "language": "csharp"
    },
    "polyglot_notebook": {
     "kernelName": "csharp"
    }
   },
   "outputs": [
    {
     "name": "stdout",
     "output_type": "stream",
     "text": [
      "Success { value = Wallet { amount = 20 } }\n",
      "Error { message = It broke }\n"
     ]
    }
   ],
   "source": [
    "// If the result is a Success, apply the function to the value, otherwise return the Error\n",
    "public static Result<T2> bind<T1, T2>(Result<T1> result, Func<T1, Result<T2>> f) => result switch\n",
    "{\n",
    "    Success<T1> s => f(s.value),\n",
    "    Error<T1> e => new Error<T2>(e.message),\n",
    "};\n",
    "Console.WriteLine(bind(new Success<Wallet>(new Wallet(10)), a => new Success<Wallet>(addTen(a))));\n",
    "Console.WriteLine(bind(new Success<Wallet>(new Wallet(10)), a => new Error<Wallet>(\"It broke\")));\n"
   ]
  },
  {
   "cell_type": "markdown",
   "metadata": {},
   "source": [
    "Once you've declared `Monad/bind` for an effect, you can compose it freely"
   ]
  },
  {
   "cell_type": "code",
   "execution_count": 15,
   "metadata": {
    "dotnet_interactive": {
     "language": "csharp"
    },
    "polyglot_notebook": {
     "kernelName": "csharp"
    }
   },
   "outputs": [
    {
     "name": "stdout",
     "output_type": "stream",
     "text": [
      "Success { value = Wallet { amount = 60 } }\n",
      "Error { message = It broke }\n"
     ]
    }
   ],
   "source": [
    "Result<Wallet> addTenIfSmallWallet(Wallet w) => w.amount > 75 ? new Error<Wallet>(\"It broke\") : new Success<Wallet>(addTen(w));\n",
    "\n",
    "Result<Wallet> addFiftyWithErrorHandling(Result<Wallet> w) {\n",
    "    var w1 = bind<Wallet, Wallet>(w, addTenIfSmallWallet);\n",
    "    var w2 = bind<Wallet, Wallet>(w1, addTenIfSmallWallet);\n",
    "    var w3 = bind<Wallet, Wallet>(w2, addTenIfSmallWallet);\n",
    "    var w4 = bind<Wallet, Wallet>(w3, addTenIfSmallWallet);\n",
    "    var w5 = bind<Wallet, Wallet>(w4, addTenIfSmallWallet);\n",
    "    return w5;\n",
    "}\n",
    "Console.WriteLine(addFiftyWithErrorHandling(new Success<Wallet>(new Wallet(10))));\n",
    "Console.WriteLine(addFiftyWithErrorHandling(new Success<Wallet>(new Wallet(70))));"
   ]
  },
  {
   "cell_type": "markdown",
   "metadata": {},
   "source": [
    "on every line in this function we are checking if there is an error and short curcuiting if there is! compare this to Go where the idiom is to manually check\n",
    "\n",
    "```go\n",
    "func addFiftyWithErrorHandling(w Wallet) (Wallet, error) {\n",
    "\n",
    "\tw1, err := addTenIfSmallWallet(w)\n",
    "\tif err != nil {\n",
    "\t\treturn fmt.Errorf(nil, err)\n",
    "\t}\n",
    "\n",
    "\tw2, err := addTenIfSmallWallet(w1)\n",
    "\tif err != nil {\n",
    "\t\treturn fmt.Errorf(nil, err)\n",
    "\t}\n",
    "    \n",
    "    w3, err := addTenIfSmallWallet(w2)\n",
    "\tif err != nil {\n",
    "\t\treturn fmt.Errorf(nil, err)\n",
    "\t}\n",
    "    \t\n",
    "    w4, err := addTenIfSmallWallet(w3)\n",
    "\tif err != nil {\n",
    "\t\treturn fmt.Errorf(nil, err)\n",
    "\t}\n",
    "    \t\n",
    "    w5, err := addTenIfSmallWallet(w4)\n",
    "\tif err != nil {\n",
    "\t\treturn fmt.Errorf(nil, err)\n",
    "\t}\n",
    "\n",
    "    return w5, nil\n",
    "}\n",
    "```\n",
    "\n",
    "Its much nicer in haskell, the language takes care of it, it would look like this\n",
    "\n",
    "```haskell\n",
    "addFiftyWithErrorHandling :: Monad m => a -> m a\n",
    "addFiftyWithErrorHandling w = do\n",
    "    w1 <- addTenIfSmallWallet w\n",
    "    w2 <- addTenIfSmallWallet w1\n",
    "    w3 <- addTenIfSmallWallet w2\n",
    "    w4 <- addTenIfSmallWallet w3\n",
    "    w5 <- addTenIfSmallWallet w4\n",
    "    return w5\n",
    "```\n",
    "\n",
    "and this function can be called with any `monad` e.g. Result, Task, Maybe, List, etc"
   ]
  }
 ],
 "metadata": {
  "kernelspec": {
   "display_name": ".NET (C#)",
   "language": "C#",
   "name": ".net-csharp"
  },
  "language_info": {
   "name": "polyglot-notebook"
  },
  "polyglot_notebook": {
   "kernelInfo": {
    "defaultKernelName": "csharp",
    "items": [
     {
      "aliases": [],
      "name": "csharp"
     }
    ]
   }
  }
 },
 "nbformat": 4,
 "nbformat_minor": 2
}
